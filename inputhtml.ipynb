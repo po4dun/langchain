{
 "cells": [
  {
   "cell_type": "code",
   "execution_count": 7,
   "metadata": {},
   "outputs": [
    {
     "ename": "NameError",
     "evalue": "name 'constants' is not defined",
     "output_type": "error",
     "traceback": [
      "\u001b[0;31m---------------------------------------------------------------------------\u001b[0m",
      "\u001b[0;31mNameError\u001b[0m                                 Traceback (most recent call last)",
      "\u001b[0;32m/var/folders/6f/m8q6v5qx6fj9chks71cyxzq40000gn/T/ipykernel_31094/3883544749.py\u001b[0m in \u001b[0;36m<module>\u001b[0;34m\u001b[0m\n\u001b[1;32m     14\u001b[0m \u001b[0;34m\u001b[0m\u001b[0m\n\u001b[1;32m     15\u001b[0m \u001b[0;31m# get api key\u001b[0m\u001b[0;34m\u001b[0m\u001b[0;34m\u001b[0m\u001b[0m\n\u001b[0;32m---> 16\u001b[0;31m \u001b[0mos\u001b[0m\u001b[0;34m.\u001b[0m\u001b[0menviron\u001b[0m\u001b[0;34m[\u001b[0m\u001b[0;34m\"OPENAI_API_KEY\"\u001b[0m\u001b[0;34m]\u001b[0m \u001b[0;34m=\u001b[0m  \u001b[0mconstants\u001b[0m\u001b[0;34m.\u001b[0m\u001b[0mAPIKEY\u001b[0m\u001b[0;34m\u001b[0m\u001b[0;34m\u001b[0m\u001b[0m\n\u001b[0m\u001b[1;32m     17\u001b[0m \u001b[0;34m\u001b[0m\u001b[0m\n",
      "\u001b[0;31mNameError\u001b[0m: name 'constants' is not defined"
     ]
    }
   ],
   "source": [
    "from langchain.document_loaders import BSHTMLLoader\n",
    "from langchain.document_loaders import DirectoryLoader\n",
    "from langchain.text_splitter import RecursiveCharacterTextSplitter\n",
    "from bs4 import BeautifulSoup\n",
    "from langchain.vectorstores import Chroma, Pinecone\n",
    "from langchain.embeddings.openai import OpenAIEmbeddings\n",
    "\n",
    "\n",
    "import tqdm\n",
    "import os\n",
    "import os\n",
    "import sys\n",
    "\n",
    "\n",
    "# get api key\n",
    "os.environ[\"OPENAI_API_KEY\"] =  constants.APIKEY\n",
    "\n"
   ]
  },
  {
   "cell_type": "code",
   "execution_count": null,
   "metadata": {},
   "outputs": [],
   "source": [
    "folder_input = '/Users/fabian/Desktop/langchain/langchain_test'\n",
    "\n",
    "# Initialize variables to store the accumulated text and table HTML\n",
    "all_text_content = \"\"\n",
    "all_table_html = [] \n",
    "\n",
    "embeddings = OpenAIEmbeddings(openai_api_key=OPENAI_API_KEY)"
   ]
  },
  {
   "cell_type": "code",
   "execution_count": null,
   "metadata": {},
   "outputs": [],
   "source": [
    "for filename in os.listdir(folder_input):\n",
    "    if filename.endswith(\".html\"):\n",
    "        html_file_path = os.path.join(folder_input, filename)\n",
    "        text_content, table_html = extract_data_from_html(html_file_path)\n",
    "\n",
    "text_splitter = RecursiveCharacterTextSplitter(chunk_size=2000, chunk_overlap=0)\n",
    "texts = text_splitter.split_documents(data)"
   ]
  },
  {
   "cell_type": "code",
   "execution_count": null,
   "metadata": {},
   "outputs": [],
   "source": [
    "# load it into Chroma\n",
    "docsearch = Chroma.from_documents(texts, embeddings)"
   ]
  },
  {
   "cell_type": "code",
   "execution_count": 43,
   "metadata": {},
   "outputs": [
    {
     "name": "stdout",
     "output_type": "stream",
     "text": [
      "[]\n"
     ]
    }
   ],
   "source": [
    "# initialize pinecone\n",
    "pinecone.init(\n",
    "    api_key=constants.PINECONE_API_KEY,  # find at app.pinecone.io\n",
    "    environment=PINECONE_API_ENV  # next to api key in console\n",
    ")\n",
    "index_name = \"langchaintest\" # put in the name of your pinecone index here\n",
    "\n",
    "docsearch = Pinecone.from_texts([t.page_content for t in texts], embeddings, index_name=index_name)"
   ]
  },
  {
   "cell_type": "code",
   "execution_count": null,
   "metadata": {},
   "outputs": [],
   "source": [
    "# Loop through all HTML files in the folder\n",
    "for filename in os.listdir(folder_input):\n",
    "    if filename.endswith(\".html\"):\n",
    "        html_file_path = os.path.join(folder_input, filename)\n",
    "        text_content, table_html = extract_data_from_html(html_file_path)\n",
    "\n",
    "        # Append the extracted text content to the accumulated variable\n",
    "        all_text_content += text_content\n",
    "\n",
    "        # Append the HTML representation of tables to the accumulated variable\n",
    "        all_table_html.extend(table_html)\n",
    "\n",
    "\n",
    "# Now, 'all_text_content' contains the combined text from all HTML files,\n",
    "# and 'all_table_html' contains the HTML representation of tables from all HTML files.\n",
    "\n",
    "# You can process or analyze these accumulated variables as needed.\n",
    "\n",
    "# Print or do something with the accumulated text content and table HTML\n",
    "print(\"All Text Content from HTML Files:\")\n",
    "print(all_text_content)\n",
    "\n",
    "# Print the HTML representation of tables\n",
    "print(\"All HTML representation of tables from HTML Files:\")\n",
    "for idx, table in enumerate(all_table_html):\n",
    "    print(f\"Table {idx + 1}:\")\n",
    "    print(table)"
   ]
  },
  {
   "cell_type": "code",
   "execution_count": 2,
   "metadata": {},
   "outputs": [],
   "source": [
    "folder_input = '/Users/fabian/Desktop/langchain/langchain_test'\n",
    "\n",
    "# Initialize variables to store the accumulated text and table HTML\n",
    "all_text_content = \"\"\n",
    "all_table_html = [] \n",
    "\n",
    "embeddings = OpenAIEmbeddings(openai_api_key=OPENAI_API_KEY)\n",
    "\n",
    "# Function to extract text and HTML representation of tables from an HTML file\n",
    "def extract_data_from_html(html_file):\n",
    "    with open(html_file, 'r', encoding='utf-8') as file:\n",
    "        html_content = file.read()\n",
    "    \n",
    "    soup = BeautifulSoup(html_content, 'html.parser')\n",
    "    \n",
    "    # Extract text content\n",
    "    text_content = soup.get_text()\n",
    "    \n",
    "    # Extract HTML representation of tables\n",
    "    table_html = [str(table) for table in soup.find_all('table')]\n",
    "    \n",
    "    return text_content, table_html"
   ]
  }
 ],
 "metadata": {
  "kernelspec": {
   "display_name": "nccr",
   "language": "python",
   "name": "python3"
  },
  "language_info": {
   "codemirror_mode": {
    "name": "ipython",
    "version": 3
   },
   "file_extension": ".py",
   "mimetype": "text/x-python",
   "name": "python",
   "nbconvert_exporter": "python",
   "pygments_lexer": "ipython3",
   "version": "3.9.10"
  }
 },
 "nbformat": 4,
 "nbformat_minor": 2
}
